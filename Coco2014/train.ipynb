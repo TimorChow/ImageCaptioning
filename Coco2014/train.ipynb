{
 "cells": [
  {
   "cell_type": "markdown",
   "metadata": {},
   "source": [
    "# 1 准备数据\n",
    "## 1.1下载数据集 \n",
    "    运行 ./download/sh\n",
    "## 1.2 Resize图片\n",
    "    运行 python resize.py 将所有图片裁剪至指定大小\n",
    "## 1.3 Vocab\n",
    "    运行 python build_vocab"
   ]
  },
  {
   "cell_type": "code",
   "execution_count": 6,
   "metadata": {},
   "outputs": [],
   "source": [
    "import argparse\n",
    "import torch\n",
    "import torch.nn as nn\n",
    "import numpy as np\n",
    "import os\n",
    "import pickle\n",
    "from data_loader import get_loader\n",
    "from build_vocab import Vocabulary\n",
    "from model import EncoderCNN, DecoderRNN\n",
    "from torch.nn.utils.rnn import pack_padded_sequence\n",
    "from torchvision import transforms\n",
    "\n",
    "\n",
    "# Device configuration\n",
    "device = torch.device('cuda' if torch.cuda.is_available() else 'cpu')\n",
    "\n",
    "dataset_root = '/Volumes/SD/Dataset/'"
   ]
  },
  {
   "cell_type": "code",
   "execution_count": 7,
   "metadata": {},
   "outputs": [],
   "source": [
    "model_path = 'models/'              # path for saving trained models'\n",
    "crop_size = 224                       # size for randomly cropping images'\n",
    "vocab_path = dataset_root+'coco/vocab.pkl'   # path for vocabulary wrapper'\n",
    "image_dir = dataset_root+'coco/resized2014'  # directory for resized images'\n",
    "caption_path = dataset_root+'coco/annotations/captions_train2014.json'     # path for train annotation json file'\n",
    "log_step = 10                           # step size for prining log info'\n",
    "save_step = 1000                     # step size for saving trained models'\n",
    "\n",
    "# Model parameter\n",
    "# embed_size = 256     # dimension of word embedding vectors'\n",
    "# hidden_size = 512      # dimension of lstm hidden states'\n",
    "num_layers = 1          # number of layers in lstm'\n",
    "\n",
    "num_epochs = 5\n",
    "batch_size = 128\n",
    "num_workers = 2\n",
    "learning_rate = 0.001"
   ]
  },
  {
   "cell_type": "code",
   "execution_count": 8,
   "metadata": {},
   "outputs": [
    {
     "name": "stdout",
     "output_type": "stream",
     "text": [
      "loading annotations into memory...\n",
      "Done (t=1.49s)\n",
      "creating index...\n",
      "index created!\n"
     ]
    }
   ],
   "source": [
    "# Create model directory\n",
    "if not os.path.exists(model_path):\n",
    "    os.makedirs(model_path)\n",
    "\n",
    "# Image preprocessing, normalization for the pretrained resnet\n",
    "transform = transforms.Compose([\n",
    "    transforms.RandomCrop(crop_size),\n",
    "    transforms.RandomHorizontalFlip(),\n",
    "    transforms.ToTensor(),\n",
    "    transforms.Normalize((0.485, 0.456, 0.406),\n",
    "                         (0.229, 0.224, 0.225))])\n",
    "\n",
    "# Load vocabulary wrapper\n",
    "with open(vocab_path, 'rb') as f:\n",
    "    vocab = pickle.load(f)\n",
    "\n",
    "# Build data loader, 读取训练数据\n",
    "data_loader = get_loader(image_dir, caption_path, vocab,\n",
    "                         transform, batch_size,\n",
    "                         shuffle=True, num_workers=num_workers)"
   ]
  },
  {
   "cell_type": "code",
   "execution_count": 24,
   "metadata": {},
   "outputs": [
    {
     "data": {
      "text/plain": [
       "9956"
      ]
     },
     "execution_count": 24,
     "metadata": {},
     "output_type": "execute_result"
    }
   ],
   "source": [
    "len(vocab)"
   ]
  },
  {
   "cell_type": "code",
   "execution_count": 22,
   "metadata": {},
   "outputs": [],
   "source": [
    "# Build the models\n",
    "encoder = EncoderCNN(embed_size=256).to(device)  # encode描述了物体, 位置, 动作等综合信息\n",
    "decoder = DecoderRNN(embed_size=256, hidden_size=512, len(vocab), num_layers).to(device)  # decode将encoder包含的信息翻译成文字描述"
   ]
  },
  {
   "cell_type": "code",
   "execution_count": null,
   "metadata": {},
   "outputs": [],
   "source": []
  },
  {
   "cell_type": "code",
   "execution_count": 10,
   "metadata": {},
   "outputs": [],
   "source": [
    "# Loss and optimizer\n",
    "criterion = nn.CrossEntropyLoss()\n",
    "params = list(decoder.parameters()) + list(encoder.linear.parameters()) + list(encoder.bn.parameters())\n",
    "optimizer = torch.optim.Adam(params, lr=learning_rate)"
   ]
  },
  {
   "cell_type": "code",
   "execution_count": 12,
   "metadata": {},
   "outputs": [
    {
     "name": "stdout",
     "output_type": "stream",
     "text": [
      "Epoch [0/5], Step [0/3236], Loss: 9.2004, Perplexity: 9900.9128\n"
     ]
    }
   ],
   "source": [
    "# Train the models\n",
    "total_step = len(data_loader)\n",
    "for epoch in range(num_epochs):\n",
    "    for i, (images, captions, lengths) in enumerate(data_loader):\n",
    "\n",
    "        # Set mini-batch dataset\n",
    "        # 读取Image和Caption\n",
    "        images = images.to(device)    # torch.Size([128, 3, 224, 224])\n",
    "        captions = captions.to(device)   # torch.Size([128, 23])\n",
    "        # 将Caption转为target  便于训练\n",
    "        targets = pack_padded_sequence(captions, lengths, batch_first=True)[0]   # torch.Size([1673])\n",
    "\n",
    "        # Forward  backward and optimize\n",
    "        # 输入image, captions, length用来训练模型\n",
    "        features = encoder(images)   # torch.Size([128, 256])\n",
    "        # outputs是模型对当前图片的caption预测\n",
    "        outputs = decoder(features, captions, lengths)   # torch.Size([1673, 9956])\n",
    "\n",
    "        # Backward\n",
    "        # 计算label和outputs之间的损失\n",
    "        loss = criterion(outputs, targets)\n",
    "        decoder.zero_grad()\n",
    "        encoder.zero_grad()\n",
    "        loss.backward()\n",
    "        optimizer.step()\n",
    "\n",
    "        # Print log info\n",
    "        if i % log_step == 0:\n",
    "            print('Epoch [{}/{}], Step [{}/{}], Loss: {:.4f}, Perplexity: {:5.4f}'\n",
    "                  .format(epoch, num_epochs, i, total_step, loss.item(), np.exp(loss.item())))\n",
    "\n",
    "        # Save the model checkpoints\n",
    "        if (i+1) % save_step == 0:\n",
    "            torch.save(decoder.state_dict(), os.path.join(\n",
    "                model_path, 'decoder-{}-{}.ckpt'.format(epoch+1, i+1)))\n",
    "            torch.save(encoder.state_dict(), os.path.join(\n",
    "                model_path, 'encoder-{}-{}.ckpt'.format(epoch+1, i+1)))\n",
    "        \n",
    "        break\n",
    "    break\n"
   ]
  },
  {
   "cell_type": "code",
   "execution_count": 67,
   "metadata": {},
   "outputs": [
    {
     "data": {
      "text/plain": [
       "PackedSequence(data=tensor([ 1,  1,  1,  ..., 40, 19,  2]), batch_sizes=tensor([128, 128, 128, 128, 128, 128, 128, 128, 128, 127, 115,  94,  67,  44,\n",
       "         31,  20,  11,   5,   2,   2,   1,   1,   1]), sorted_indices=None, unsorted_indices=None)"
      ]
     },
     "execution_count": 67,
     "metadata": {},
     "output_type": "execute_result"
    }
   ],
   "source": [
    "pack_padded_sequence(captions, lengths, batch_first=True)"
   ]
  },
  {
   "cell_type": "markdown",
   "metadata": {},
   "source": [
    "## Decoder过程详解"
   ]
  },
  {
   "cell_type": "code",
   "execution_count": 83,
   "metadata": {},
   "outputs": [
    {
     "name": "stdout",
     "output_type": "stream",
     "text": [
      "torch.Size([128, 23])\n"
     ]
    },
    {
     "data": {
      "text/plain": [
       "128"
      ]
     },
     "execution_count": 83,
     "metadata": {},
     "output_type": "execute_result"
    }
   ],
   "source": [
    "print(captions.size())\n",
    "captions\n"
   ]
  },
  {
   "cell_type": "markdown",
   "metadata": {},
   "source": [
    "## 1.1 将Caption编码, 用256维的embedding表示"
   ]
  },
  {
   "cell_type": "code",
   "execution_count": 57,
   "metadata": {},
   "outputs": [
    {
     "name": "stdout",
     "output_type": "stream",
     "text": [
      "torch.Size([128, 23, 256])\n",
      "torch.Size([128, 1, 256])\n"
     ]
    }
   ],
   "source": [
    "# 将caption用256维的embedding表示\n",
    "embeddings = decoder.embed(captions)\n",
    "print(embeddings.size())\n",
    "print(features.unsqueeze(1).size())"
   ]
  },
  {
   "cell_type": "code",
   "execution_count": 58,
   "metadata": {},
   "outputs": [
    {
     "data": {
      "text/plain": [
       "torch.Size([128, 24, 256])"
      ]
     },
     "execution_count": 58,
     "metadata": {},
     "output_type": "execute_result"
    }
   ],
   "source": [
    "# 拼接embedding和features\n",
    "embeddings = torch.cat((features.unsqueeze(1), embeddings), 1)\n",
    "embeddings.size()"
   ]
  },
  {
   "cell_type": "code",
   "execution_count": 69,
   "metadata": {},
   "outputs": [
    {
     "data": {
      "text/plain": [
       "PackedSequence(data=tensor([[ 0.3116, -0.4476, -0.2999,  ..., -1.0705,  0.7326,  1.0773],\n",
       "        [ 0.0202,  0.0738,  0.6870,  ...,  0.8710, -0.6984,  1.4274],\n",
       "        [ 0.0242, -0.3649,  1.1551,  ..., -1.2311,  0.7355, -1.1059],\n",
       "        ...,\n",
       "        [-0.3794,  0.4380,  0.8859,  ..., -0.8869, -1.2137, -0.2564],\n",
       "        [ 1.3821,  0.4445, -0.5598,  ...,  0.6688, -0.3859, -0.2020],\n",
       "        [ 1.9841,  1.4484,  1.4450,  ...,  1.1245,  0.8445, -1.0468]],\n",
       "       grad_fn=<PackPaddedSequenceBackward>), batch_sizes=tensor([128, 128, 128, 128, 128, 128, 128, 128, 128, 127, 115,  94,  67,  44,\n",
       "         31,  20,  11,   5,   2,   2,   1,   1,   1]), sorted_indices=None, unsorted_indices=None)"
      ]
     },
     "execution_count": 69,
     "metadata": {},
     "output_type": "execute_result"
    }
   ],
   "source": [
    "packed = pack_padded_sequence(embeddings, lengths, batch_first=True) \n",
    "packed"
   ]
  },
  {
   "cell_type": "code",
   "execution_count": 73,
   "metadata": {},
   "outputs": [],
   "source": [
    "# torch.nn.utils.rnn.pad_packed_sequence(packed, batch_first = True)"
   ]
  },
  {
   "cell_type": "code",
   "execution_count": 100,
   "metadata": {},
   "outputs": [
    {
     "data": {
      "text/plain": [
       "torch.Size([9956])"
      ]
     },
     "execution_count": 100,
     "metadata": {},
     "output_type": "execute_result"
    }
   ],
   "source": [
    "hiddens, _ = decoder.lstm(packed)\n",
    "outputs = decoder.linear(hiddens[0])"
   ]
  },
  {
   "cell_type": "code",
   "execution_count": 97,
   "metadata": {},
   "outputs": [
    {
     "data": {
      "text/plain": [
       "tensor([ 1,  1,  1,  ..., 40, 19,  2])"
      ]
     },
     "execution_count": 97,
     "metadata": {},
     "output_type": "execute_result"
    }
   ],
   "source": [
    "targets = pack_padded_sequence(captions, lengths, batch_first=True)[0]\n",
    "targets"
   ]
  },
  {
   "cell_type": "code",
   "execution_count": 95,
   "metadata": {},
   "outputs": [],
   "source": [
    "sum(lengths)\n",
    "loss = criterion(outputs, targets)\n"
   ]
  },
  {
   "cell_type": "code",
   "execution_count": null,
   "metadata": {},
   "outputs": [],
   "source": []
  }
 ],
 "metadata": {
  "kernelspec": {
   "display_name": "Python 3",
   "language": "python",
   "name": "python3"
  },
  "language_info": {
   "codemirror_mode": {
    "name": "ipython",
    "version": 3
   },
   "file_extension": ".py",
   "mimetype": "text/x-python",
   "name": "python",
   "nbconvert_exporter": "python",
   "pygments_lexer": "ipython3",
   "version": "3.6.8"
  }
 },
 "nbformat": 4,
 "nbformat_minor": 2
}
