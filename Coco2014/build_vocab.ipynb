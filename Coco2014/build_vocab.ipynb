{
 "cells": [
  {
   "cell_type": "code",
   "execution_count": 55,
   "metadata": {},
   "outputs": [],
   "source": [
    "import nltk\n",
    "import pickle\n",
    "import argparse\n",
    "from collections import Counter\n",
    "from pycocotools.coco import COCO\n",
    "\n",
    "\n",
    "class Vocabulary(object):\n",
    "    \"\"\"Simple vocabulary wrapper.\"\"\"\n",
    "    def __init__(self):\n",
    "        self.word2idx = {}\n",
    "        self.idx2word = {}\n",
    "        self.idx = 0\n",
    "\n",
    "    def add_word(self, word):\n",
    "        if not word in self.word2idx:\n",
    "            self.word2idx[word] = self.idx\n",
    "            self.idx2word[self.idx] = word\n",
    "            self.idx += 1\n",
    "\n",
    "    def __call__(self, word):\n",
    "        \"\"\"输入一个词, return该词的index  如: vocab('abc')   6 \"\"\"\n",
    "        if not word in self.word2idx:\n",
    "            return self.word2idx['<unk>']\n",
    "        return self.word2idx[word]\n",
    "\n",
    "    def __len__(self):\n",
    "        return len(self.word2idx)"
   ]
  },
  {
   "cell_type": "markdown",
   "metadata": {},
   "source": [
    "# 加载COCO数据集的Annotation"
   ]
  },
  {
   "cell_type": "code",
   "execution_count": 15,
   "metadata": {},
   "outputs": [],
   "source": [
    "dataset_root = '/Volumes/SD/Dataset/coco/'\n",
    "caption_path = dataset_root+'annotations/captions_train2014.json'  # path for train annotation file\n",
    "vocab_path = dataset_root+'vocab.pkl'  #path for saving vocabulary wrapper\n",
    "threshold=4  #'minimum word count threshold"
   ]
  },
  {
   "cell_type": "code",
   "execution_count": 16,
   "metadata": {},
   "outputs": [
    {
     "name": "stdout",
     "output_type": "stream",
     "text": [
      "loading annotations into memory...\n",
      "Done (t=0.95s)\n",
      "creating index...\n",
      "index created!\n"
     ]
    }
   ],
   "source": [
    "# COCO加载 annotation_file.json 用于描述图片\n",
    "# {\"image_id\": 190581, \"id\": 18234, \"caption\": \"A gentleman, view in the mirror, looking at the bike in garage.\"}\n",
    "coco = COCO(caption_path)"
   ]
  },
  {
   "cell_type": "markdown",
   "metadata": {},
   "source": [
    "# 遍历id, 提取描述, 转为tokens"
   ]
  },
  {
   "cell_type": "code",
   "execution_count": 25,
   "metadata": {},
   "outputs": [
    {
     "name": "stdout",
     "output_type": "stream",
     "text": [
      "[1000/414113] Tokenized the captions.\n"
     ]
    }
   ],
   "source": [
    "# 生成一个计数器, 后续用于去除频率过低的词\n",
    "counter = Counter()\n",
    "ids = coco.anns.keys()\n",
    "for i, id in enumerate(ids):\n",
    "    caption = str(coco.anns[id]['caption'])                           # 'A very clean and well decorated empty bathroom'\n",
    "    tokens = nltk.tokenize.word_tokenize(caption.lower())     # ['a', 'very', 'clean', 'and', 'well', 'decorated', 'empty', 'bathroom']\n",
    "    counter.update(tokens)\n",
    "    if (i+1) % 1000 == 0:\n",
    "        print(\"[{}/{}] Tokenized the captions.\".format(i+1, len(ids)))\n",
    "        break"
   ]
  },
  {
   "cell_type": "code",
   "execution_count": null,
   "metadata": {},
   "outputs": [],
   "source": []
  },
  {
   "cell_type": "code",
   "execution_count": 57,
   "metadata": {},
   "outputs": [],
   "source": [
    "# If the word frequency is less than 'threshold', then the word is discarded. 丢弃频率过低的词\n",
    "words = [word for word, cnt in counter.items() if cnt >= threshold]\n",
    "\n",
    "# Create a vocab wrapper and add the words to the vocabulary.\n",
    "vocab = Vocabulary()\n",
    "[vocab.add_word(w) for w in ['<pad>', '<start>', '<end>', '<unk>']]\n",
    "for i, word in enumerate(awords):\n",
    "    vocab.add_word(word)"
   ]
  },
  {
   "cell_type": "code",
   "execution_count": null,
   "metadata": {},
   "outputs": [],
   "source": []
  },
  {
   "cell_type": "markdown",
   "metadata": {},
   "source": [
    "# Save"
   ]
  },
  {
   "cell_type": "code",
   "execution_count": 56,
   "metadata": {},
   "outputs": [
    {
     "name": "stdout",
     "output_type": "stream",
     "text": [
      "Total vocabulary size: 368\n",
      "Saved the vocabulary wrapper to '/Volumes/SD/Dataset/coco/vocab.pkl'\n"
     ]
    }
   ],
   "source": [
    "with open(vocab_path, 'wb') as f:\n",
    "    pickle.dump(vocab, f)\n",
    "print(\"Total vocabulary size: {}\".format(len(vocab)))\n",
    "print(\"Saved the vocabulary wrapper to '{}'\".format(vocab_path))"
   ]
  }
 ],
 "metadata": {
  "kernelspec": {
   "display_name": "Python 3",
   "language": "python",
   "name": "python3"
  },
  "language_info": {
   "codemirror_mode": {
    "name": "ipython",
    "version": 3
   },
   "file_extension": ".py",
   "mimetype": "text/x-python",
   "name": "python",
   "nbconvert_exporter": "python",
   "pygments_lexer": "ipython3",
   "version": "3.6.8"
  }
 },
 "nbformat": 4,
 "nbformat_minor": 2
}
